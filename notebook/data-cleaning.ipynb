{
 "cells": [
  {
   "cell_type": "markdown",
   "metadata": {},
   "source": [
    "# Data Cleaning - Women's March 2017 dataset"
   ]
  },
  {
   "cell_type": "code",
   "execution_count": 1,
   "metadata": {},
   "outputs": [],
   "source": [
    "%matplotlib inline\n",
    "\n",
    "import re\n",
    "import pandas as pd\n",
    "from pandas.io.json import json_normalize"
   ]
  },
  {
   "cell_type": "markdown",
   "metadata": {},
   "source": [
    "`<remember to explain here>`"
   ]
  },
  {
   "cell_type": "code",
   "execution_count": 9,
   "metadata": {},
   "outputs": [],
   "source": [
    "# Helper functions\n",
    "def get_hashtags(text):\n",
    "    s = re.findall('(?:^|\\s)[＃#]{1}(\\w+)', text)\n",
    "    return s if len(s) > 0 else ''\n",
    "\n",
    "def get_mentions(text):\n",
    "    s = re.findall('(?:^|\\s?|\\.?)[＠@]{1}([^\\s#<>[\\]|{}:;,.\\(\\)=+]+)', text)\n",
    "    return s if len(s) > 0 else ''\n",
    "\n",
    "def get_source(text):\n",
    "    s = re.findall('<a\\s+?href=\\\"[^\\\"]*\\\"\\s+?rel=\\\"[^\\\"]*\\\">([^<>]+)<\\/a>', text)\n",
    "    return s[0] if len(s) > 0 else ''\n",
    "\n",
    "def get_urls(text):\n",
    "    s = re.findall('http[s]?://(?:[a-z]|[0-9]|[$-_@.&amp;+]|[!*\\(\\),]|(?:%[0-9a-f][0-9a-f]))+', text)\n",
    "    return s[0] if len(s) > 0 else ''"
   ]
  },
  {
   "cell_type": "code",
   "execution_count": 10,
   "metadata": {},
   "outputs": [],
   "source": [
    "filename = '../data/wm2017_tweets.json'\n",
    "\n",
    "json_reader = pd.read_json(filename, lines=True, chunksize=1024)\n",
    "\n",
    "wm_data = pd.DataFrame()\n",
    "    \n",
    "for chunk in json_reader:\n",
    "    not_truncated = chunk[chunk['truncated'] == False]\n",
    "    only_english = not_truncated[not_truncated['lang'] == 'en'].reset_index()\n",
    "    \n",
    "    only_english['hashtags'] = only_english['text'].apply(get_hashtags)\n",
    "    only_english['mentions'] = only_english['text'].apply(get_mentions)\n",
    "    only_english['urls'] = only_english['text'].apply(get_urls)\n",
    "    only_english['source'] = only_english['source'].apply(get_source)\n",
    "    user_df = json_normalize(only_english['user'])\n",
    "\n",
    "    # Selecting only few columns\n",
    "    tweet_df = only_english[['id_str', 'created_at', 'source', 'text', 'hashtags', 'mentions', \\\n",
    "                             'urls', 'favorite_count', 'retweet_count']]\n",
    "    user_df = user_df[['location', 'name', 'screen_name', 'followers_count', 'verified']]\n",
    "    \n",
    "    frames = [tweet_df, user_df]\n",
    "    \n",
    "    df = pd.concat(frames, axis=1)\n",
    "\n",
    "    wm_data = wm_data.append(df)"
   ]
  },
  {
   "cell_type": "code",
   "execution_count": 11,
   "metadata": {},
   "outputs": [
    {
     "data": {
      "text/plain": [
       "(553117, 14)"
      ]
     },
     "execution_count": 11,
     "metadata": {},
     "output_type": "execute_result"
    }
   ],
   "source": [
    "wm_data.shape"
   ]
  },
  {
   "cell_type": "code",
   "execution_count": 12,
   "metadata": {},
   "outputs": [
    {
     "name": "stdout",
     "output_type": "stream",
     "text": [
      "<class 'pandas.core.frame.DataFrame'>\n",
      "Int64Index: 553117 entries, 0 to 432\n",
      "Data columns (total 14 columns):\n",
      "id_str             553117 non-null int64\n",
      "created_at         553117 non-null datetime64[ns]\n",
      "source             553117 non-null object\n",
      "text               553117 non-null object\n",
      "hashtags           553117 non-null object\n",
      "mentions           553117 non-null object\n",
      "urls               553117 non-null object\n",
      "favorite_count     553117 non-null int64\n",
      "retweet_count      553117 non-null int64\n",
      "location           553117 non-null object\n",
      "name               553117 non-null object\n",
      "screen_name        553117 non-null object\n",
      "followers_count    553117 non-null int64\n",
      "verified           553117 non-null bool\n",
      "dtypes: bool(1), datetime64[ns](1), int64(4), object(8)\n",
      "memory usage: 59.6+ MB\n"
     ]
    }
   ],
   "source": [
    "wm_data.info()"
   ]
  },
  {
   "cell_type": "code",
   "execution_count": 13,
   "metadata": {},
   "outputs": [],
   "source": [
    "with open('../data/clean_wm2017tweets.json', 'w') as f:\n",
    "    f.write(wm_data.to_json(orient='records', lines=True))"
   ]
  },
  {
   "cell_type": "markdown",
   "metadata": {},
   "source": [
    "# Data Wrangling"
   ]
  },
  {
   "cell_type": "code",
   "execution_count": 15,
   "metadata": {},
   "outputs": [],
   "source": [
    "wm_data = pd.read_json('../data/clean_wm2017tweets.json', lines=True)"
   ]
  },
  {
   "cell_type": "code",
   "execution_count": 19,
   "metadata": {},
   "outputs": [
    {
     "data": {
      "text/html": [
       "<div>\n",
       "<style scoped>\n",
       "    .dataframe tbody tr th:only-of-type {\n",
       "        vertical-align: middle;\n",
       "    }\n",
       "\n",
       "    .dataframe tbody tr th {\n",
       "        vertical-align: top;\n",
       "    }\n",
       "\n",
       "    .dataframe thead th {\n",
       "        text-align: right;\n",
       "    }\n",
       "</style>\n",
       "<table border=\"1\" class=\"dataframe\">\n",
       "  <thead>\n",
       "    <tr style=\"text-align: right;\">\n",
       "      <th></th>\n",
       "      <th>created_at</th>\n",
       "      <th>favorite_count</th>\n",
       "      <th>followers_count</th>\n",
       "      <th>hashtags</th>\n",
       "      <th>id_str</th>\n",
       "      <th>location</th>\n",
       "      <th>mentions</th>\n",
       "      <th>name</th>\n",
       "      <th>retweet_count</th>\n",
       "      <th>screen_name</th>\n",
       "      <th>source</th>\n",
       "      <th>text</th>\n",
       "      <th>urls</th>\n",
       "      <th>verified</th>\n",
       "    </tr>\n",
       "  </thead>\n",
       "  <tbody>\n",
       "    <tr>\n",
       "      <th>0</th>\n",
       "      <td>2017-01-21 05:03:04</td>\n",
       "      <td>0</td>\n",
       "      <td>128</td>\n",
       "      <td>[WomensMarch]</td>\n",
       "      <td>822670827871092736</td>\n",
       "      <td>Brentwood, CA</td>\n",
       "      <td>[katyperry]</td>\n",
       "      <td>Jesmarie</td>\n",
       "      <td>5015</td>\n",
       "      <td>jesmarie_avila</td>\n",
       "      <td>Twitter for iPhone</td>\n",
       "      <td>RT @katyperry: Then, I'm marching. #WomensMarch</td>\n",
       "      <td></td>\n",
       "      <td>False</td>\n",
       "    </tr>\n",
       "    <tr>\n",
       "      <th>1</th>\n",
       "      <td>2017-01-21 05:01:15</td>\n",
       "      <td>0</td>\n",
       "      <td>4092</td>\n",
       "      <td>[amplify, womensmarch, whyimarch, wmwcanada, s...</td>\n",
       "      <td>822670369425358848</td>\n",
       "      <td>Richmond, KY</td>\n",
       "      <td>[CdnWomenMarch]</td>\n",
       "      <td>Zezrie💕</td>\n",
       "      <td>208</td>\n",
       "      <td>zezrie</td>\n",
       "      <td>Twitter for Android</td>\n",
       "      <td>RT @CdnWomenMarch: What does it mean to suppor...</td>\n",
       "      <td>https://t.co/DrBsA4B4</td>\n",
       "      <td>False</td>\n",
       "    </tr>\n",
       "    <tr>\n",
       "      <th>2</th>\n",
       "      <td>2017-01-21 05:01:41</td>\n",
       "      <td>0</td>\n",
       "      <td>974</td>\n",
       "      <td>[womensmarch, womensmarchsydney, wmw, wmglobal]</td>\n",
       "      <td>822670479735529472</td>\n",
       "      <td>Zwolle, Ov, the Netherlands</td>\n",
       "      <td>[womensmarchsyd]</td>\n",
       "      <td>Miriam Martina Dion</td>\n",
       "      <td>31</td>\n",
       "      <td>MiriamMartina2</td>\n",
       "      <td>Twitter for Android</td>\n",
       "      <td>RT @womensmarchsyd: Six days left! Who's with ...</td>\n",
       "      <td>https://t.co/XcrxWFsfxF</td>\n",
       "      <td>False</td>\n",
       "    </tr>\n",
       "    <tr>\n",
       "      <th>3</th>\n",
       "      <td>2017-01-21 05:01:23</td>\n",
       "      <td>0</td>\n",
       "      <td>4605</td>\n",
       "      <td></td>\n",
       "      <td>822670402153422848</td>\n",
       "      <td>iPhone: 41.362907,-70.516632</td>\n",
       "      <td>[latimes]</td>\n",
       "      <td>Susan Saint James</td>\n",
       "      <td>177</td>\n",
       "      <td>Saintjames46</td>\n",
       "      <td>Twitter for iPhone</td>\n",
       "      <td>RT @latimes: Headed to the Women's March in L....</td>\n",
       "      <td>https://t.co/usOG7ThkVM</td>\n",
       "      <td>False</td>\n",
       "    </tr>\n",
       "    <tr>\n",
       "      <th>4</th>\n",
       "      <td>2017-01-21 05:01:57</td>\n",
       "      <td>1</td>\n",
       "      <td>233</td>\n",
       "      <td>[womensmarch, dc, firedup, readytogo]</td>\n",
       "      <td>822670548085968896</td>\n",
       "      <td>Baltimore, Maryland</td>\n",
       "      <td></td>\n",
       "      <td>Joules</td>\n",
       "      <td>0</td>\n",
       "      <td>madamejoules</td>\n",
       "      <td>Instagram</td>\n",
       "      <td>I'm ready to march.....\\n\\n#womensmarch #dc #f...</td>\n",
       "      <td>https://t.co/i5TxiB2iGa</td>\n",
       "      <td>False</td>\n",
       "    </tr>\n",
       "  </tbody>\n",
       "</table>\n",
       "</div>"
      ],
      "text/plain": [
       "           created_at  favorite_count  followers_count  \\\n",
       "0 2017-01-21 05:03:04               0              128   \n",
       "1 2017-01-21 05:01:15               0             4092   \n",
       "2 2017-01-21 05:01:41               0              974   \n",
       "3 2017-01-21 05:01:23               0             4605   \n",
       "4 2017-01-21 05:01:57               1              233   \n",
       "\n",
       "                                            hashtags              id_str  \\\n",
       "0                                      [WomensMarch]  822670827871092736   \n",
       "1  [amplify, womensmarch, whyimarch, wmwcanada, s...  822670369425358848   \n",
       "2    [womensmarch, womensmarchsydney, wmw, wmglobal]  822670479735529472   \n",
       "3                                                     822670402153422848   \n",
       "4              [womensmarch, dc, firedup, readytogo]  822670548085968896   \n",
       "\n",
       "                       location          mentions                 name  \\\n",
       "0                 Brentwood, CA       [katyperry]             Jesmarie   \n",
       "1                  Richmond, KY   [CdnWomenMarch]              Zezrie💕   \n",
       "2  Zwolle, Ov, the Netherlands   [womensmarchsyd]  Miriam Martina Dion   \n",
       "3  iPhone: 41.362907,-70.516632         [latimes]    Susan Saint James   \n",
       "4          Baltimore, Maryland                                  Joules   \n",
       "\n",
       "   retweet_count     screen_name               source  \\\n",
       "0           5015  jesmarie_avila   Twitter for iPhone   \n",
       "1            208          zezrie  Twitter for Android   \n",
       "2             31  MiriamMartina2  Twitter for Android   \n",
       "3            177    Saintjames46   Twitter for iPhone   \n",
       "4              0    madamejoules            Instagram   \n",
       "\n",
       "                                                text                     urls  \\\n",
       "0    RT @katyperry: Then, I'm marching. #WomensMarch                            \n",
       "1  RT @CdnWomenMarch: What does it mean to suppor...    https://t.co/DrBsA4B4   \n",
       "2  RT @womensmarchsyd: Six days left! Who's with ...  https://t.co/XcrxWFsfxF   \n",
       "3  RT @latimes: Headed to the Women's March in L....  https://t.co/usOG7ThkVM   \n",
       "4  I'm ready to march.....\\n\\n#womensmarch #dc #f...  https://t.co/i5TxiB2iGa   \n",
       "\n",
       "   verified  \n",
       "0     False  \n",
       "1     False  \n",
       "2     False  \n",
       "3     False  \n",
       "4     False  "
      ]
     },
     "execution_count": 19,
     "metadata": {},
     "output_type": "execute_result"
    }
   ],
   "source": [
    "wm_data.head()"
   ]
  },
  {
   "cell_type": "code",
   "execution_count": null,
   "metadata": {},
   "outputs": [],
   "source": []
  }
 ],
 "metadata": {
  "kernelspec": {
   "display_name": "Python 3",
   "language": "python",
   "name": "python3"
  },
  "language_info": {
   "codemirror_mode": {
    "name": "ipython",
    "version": 3
   },
   "file_extension": ".py",
   "mimetype": "text/x-python",
   "name": "python",
   "nbconvert_exporter": "python",
   "pygments_lexer": "ipython3",
   "version": "3.6.1"
  }
 },
 "nbformat": 4,
 "nbformat_minor": 2
}
